{
 "cells": [
  {
   "cell_type": "code",
   "execution_count": 1,
   "metadata": {
    "collapsed": false
   },
   "outputs": [
    {
     "name": "stdout",
     "output_type": "stream",
     "text": [
      "Populating the interactive namespace from numpy and matplotlib\n"
     ]
    },
    {
     "name": "stderr",
     "output_type": "stream",
     "text": [
      "C:\\Users\\Anto\\Anaconda2\\lib\\site-packages\\pandas\\computation\\__init__.py:19: UserWarning: The installed version of numexpr 2.4.4 is not supported in pandas and will be not be used\n",
      "\n",
      "  UserWarning)\n"
     ]
    }
   ],
   "source": [
    "import pandas as pd\n",
    "import numpy as np\n",
    "import random as rd\n",
    "import datetime as dt\n",
    "import matplotlib.pyplot as plt\n",
    "import sys\n",
    "%pylab inline\n",
    "\n",
    "sys.path.append('D:/Python/AntoTradingSystem/gdax')\n",
    "\n",
    "import gdax\n",
    "import json\n",
    "\n",
    "import myfunctions as myf\n",
    "\n",
    "loc ='D:/Python/AntoTradingSystem/gdax/'"
   ]
  },
  {
   "cell_type": "code",
   "execution_count": 2,
   "metadata": {
    "collapsed": false
   },
   "outputs": [],
   "source": [
    "import mygdax\n",
    "newpk = mygdax.pk()\n",
    "auth_client = gdax.AuthenticatedClient(newpk.key, newpk.b64secret, newpk.passphrase)"
   ]
  },
  {
   "cell_type": "code",
   "execution_count": 4,
   "metadata": {
    "collapsed": false
   },
   "outputs": [],
   "source": [
    "#auth_client.get_accounts()"
   ]
  },
  {
   "cell_type": "code",
   "execution_count": null,
   "metadata": {
    "collapsed": false
   },
   "outputs": [],
   "source": [
    "public_client = gdax.PublicClient()\n",
    "public_client.get_product_order_book('BTC-USD', level=1)\n",
    "\n",
    "x = public_client.get_product_ticker(product_id='BTC-EUR')\n",
    "public_client.get_products()\n",
    "\n",
    "pd.DataFrame(list(x.items()))"
   ]
  },
  {
   "cell_type": "code",
   "execution_count": null,
   "metadata": {
    "collapsed": false
   },
   "outputs": [],
   "source": [
    "public_client = gdax.PublicClient()\n",
    "public_client.get_product_order_book('BTC-USD', level=2)\n",
    "x = public_client.get_product_ticker(product_id='ETH-USD')\n",
    "public_client.get_products()\n",
    "\n",
    "pd.DataFrame(list(x.items()))"
   ]
  },
  {
   "cell_type": "code",
   "execution_count": null,
   "metadata": {
    "collapsed": false
   },
   "outputs": [],
   "source": [
    "x = public_client.get_product_order_book('BTC-EUR', level=3)\n",
    "#pd.DataFrame(list(x.items()))\n",
    "print(public_client.get_time())\n",
    "#pd.DataFrame.from_dict(x).head(20)\n",
    "\n",
    "def aggr_order_book3(x):\n",
    "    typs = (('asks',True),('bids',False))\n",
    "    df = pd.DataFrame()\n",
    "    for typ in typs:\n",
    "        pd.DataFrame(x[typ[0]])\n",
    "        df_ = pd.DataFrame(x[typ[0]])[[0,1]]\n",
    "        df_[0] = df_[0].map(lambda x: float(x))\n",
    "        df_[1] = df_[1].map(lambda x: float(x))\n",
    "        df_ = df_.groupby(0).sum()\n",
    "        df_.columns = [typ[0]+'_size']\n",
    "        df_[typ[0]+'_price'] = df_.index\n",
    "        df_ = df_.sort_values(typ[0]+'_price', ascending=typ[1])\n",
    "        df_ = df_.reset_index(drop=True)\n",
    "        df_=df_[[typ[0]+'_price', typ[0]+'_size']]\n",
    "        df = pd.concat([df,df_], axis=1)\n",
    "    return df\n"
   ]
  },
  {
   "cell_type": "code",
   "execution_count": null,
   "metadata": {
    "collapsed": false
   },
   "outputs": [],
   "source": [
    "dfag = aggr_order_book3(x)\n",
    "x_ = dfag['asks_size']\n",
    "y_ = dfag['asks_price']\n",
    "plt.scatter(x_, y_)"
   ]
  },
  {
   "cell_type": "code",
   "execution_count": null,
   "metadata": {
    "collapsed": false
   },
   "outputs": [],
   "source": [
    "dfag = aggr_order_book3(x)\n",
    "x_ = dfag['bids_size']\n",
    "y_ = dfag['bids_price']\n",
    "plt.scatter(x_, y_)"
   ]
  },
  {
   "cell_type": "code",
   "execution_count": null,
   "metadata": {
    "collapsed": false
   },
   "outputs": [],
   "source": []
  },
  {
   "cell_type": "code",
   "execution_count": null,
   "metadata": {
    "collapsed": false
   },
   "outputs": [],
   "source": [
    "x = public_client.get_product_order_book('BTC-EUR', level=2)\n",
    "#pd.DataFrame(list(x.items()))\n",
    "print(public_client.get_time())\n",
    "#pd.DataFrame.from_dict(x)\n",
    "\n",
    "ask=pd.DataFrame(x['asks'], columns=['ask_price','ask_size','ask_num'])\n",
    "bid=pd.DataFrame(x['bids'], columns=['bid_price','bid_size','bid_num'])\n",
    "\n",
    "pd.concat([ask, bid], axis=1)"
   ]
  },
  {
   "cell_type": "code",
   "execution_count": null,
   "metadata": {
    "collapsed": false
   },
   "outputs": [],
   "source": [
    "y = public_client.get_product_trades(product_id='BTC-EUR')\n",
    "\n",
    "pd.DataFrame.from_dict(y).head()\n"
   ]
  },
  {
   "cell_type": "code",
   "execution_count": null,
   "metadata": {
    "collapsed": false
   },
   "outputs": [],
   "source": [
    "z = public_client.get_product_historic_rates('BTC-EUR', \n",
    "                                             start='2017-11-10T10:30:00Z', \n",
    "                                             end='2017-11-10T12:30:00Z',\n",
    "                                             granularity=20)\n",
    "\n",
    "#z = public_client.get_product_historic_rates('BTC-EUR')\n",
    "dfh = pd.DataFrame(z, columns=['time','low','high','open','close','volume'])\n",
    "dfh['time'] = dfh['time'].map(lambda x: dt.datetime.utcfromtimestamp(x).isoformat())\n",
    "dfh.index = dfh['time']\n",
    "dfh = dfh.sort_values('time')\n",
    "dfh[[1,2,3,4]].plot()\n",
    "plt.legend(bbox_to_anchor=(1.05, 1), loc=2, borderaxespad=0.)\n",
    "plt.xticks(rotation=45)"
   ]
  },
  {
   "cell_type": "code",
   "execution_count": null,
   "metadata": {
    "collapsed": false
   },
   "outputs": [],
   "source": []
  },
  {
   "cell_type": "code",
   "execution_count": null,
   "metadata": {
    "collapsed": false
   },
   "outputs": [],
   "source": [
    "t = public_client.get_time()\n",
    "dft = pd.DataFrame(list(t.items()))\n",
    "dft"
   ]
  },
  {
   "cell_type": "code",
   "execution_count": null,
   "metadata": {
    "collapsed": false
   },
   "outputs": [],
   "source": []
  }
 ],
 "metadata": {
  "anaconda-cloud": {},
  "kernelspec": {
   "display_name": "Python 2",
   "language": "python",
   "name": "python2"
  },
  "language_info": {
   "codemirror_mode": {
    "name": "ipython",
    "version": 2
   },
   "file_extension": ".py",
   "mimetype": "text/x-python",
   "name": "python",
   "nbconvert_exporter": "python",
   "pygments_lexer": "ipython2",
   "version": "2.7.12"
  }
 },
 "nbformat": 4,
 "nbformat_minor": 0
}
